{
 "cells": [
  {
   "cell_type": "code",
   "execution_count": 77,
   "id": "fbe0fd64-6c90-432e-9957-5dc9ddf001e3",
   "metadata": {},
   "outputs": [],
   "source": [
    "def expected_return(tier_n, roll_cost, tier_n_lowest_cost):\n",
    "    er = 0\n",
    "    for x in tier_n:\n",
    "        er += x - roll_cost - tier_n_lowest_cost\n",
    "    return er / len(tier_n)"
   ]
  },
  {
   "cell_type": "markdown",
   "id": "d7ada40a-7b01-4d69-b1d0-365bfa3a2a50",
   "metadata": {
    "tags": []
   },
   "source": [
    "## Essence"
   ]
  },
  {
   "cell_type": "markdown",
   "id": "026c886d-19ee-494e-8087-21925e26a480",
   "metadata": {
    "jp-MarkdownHeadingCollapsed": true,
    "tags": []
   },
   "source": [
    "### Essence Cost"
   ]
  },
  {
   "cell_type": "code",
   "execution_count": 78,
   "id": "d822d580-d83e-4525-b1de-ef009354f8d5",
   "metadata": {},
   "outputs": [],
   "source": [
    "tier8 = [8.0, 9.0, 11.0]\n",
    "tier8_lowest_cost = 7.0"
   ]
  },
  {
   "cell_type": "code",
   "execution_count": 79,
   "id": "bb3a7190-70f9-4ab0-9825-a68752b5f8df",
   "metadata": {},
   "outputs": [],
   "source": [
    "tier7 = [8.9, 7.5, 5, 4, 4, 3.7, 3.7, 3.3, 3.0, 3.0, 3.0, 2.3, 2.0, 2.0, 2.0, 2.0, 2.0, 1.6, 1.6]\n",
    "tier7_lowest_cost = 1.5"
   ]
  },
  {
   "cell_type": "code",
   "execution_count": 80,
   "id": "e70ba6c5-96a6-4371-8524-1ccaaed1bb5f",
   "metadata": {},
   "outputs": [],
   "source": [
    "juice = 40"
   ]
  },
  {
   "cell_type": "code",
   "execution_count": 81,
   "id": "081d921c-9311-4a6c-b0a7-af3859f316ec",
   "metadata": {},
   "outputs": [],
   "source": [
    "juice_cost = 1"
   ]
  },
  {
   "cell_type": "code",
   "execution_count": 82,
   "id": "b7d26e15-e135-4ebc-b9dc-4f11688f14c3",
   "metadata": {},
   "outputs": [],
   "source": [
    "roll_cost = 30"
   ]
  },
  {
   "cell_type": "code",
   "execution_count": 83,
   "id": "b9d9282c-73b2-4ad8-bb6f-537f54380536",
   "metadata": {},
   "outputs": [
    {
     "data": {
      "text/plain": [
       "0.75"
      ]
     },
     "execution_count": 83,
     "metadata": {},
     "output_type": "execute_result"
    }
   ],
   "source": [
    "cost_per_roll = (roll_cost * juice_cost) / juice\n",
    "cost_per_roll"
   ]
  },
  {
   "cell_type": "markdown",
   "id": "e323639c-700a-46b2-b5d0-d4dbc9e8c74a",
   "metadata": {
    "tags": []
   },
   "source": [
    "### Essence Return"
   ]
  },
  {
   "cell_type": "code",
   "execution_count": 84,
   "id": "ce0c74a9-3347-42fd-b0dc-bddcd417aeef",
   "metadata": {},
   "outputs": [
    {
     "data": {
      "text/plain": [
       "1.5833333333333333"
      ]
     },
     "execution_count": 84,
     "metadata": {},
     "output_type": "execute_result"
    }
   ],
   "source": [
    "tier8_expected_value = expected_return(tier8, cost_per_roll, tier8_lowest_cost)\n",
    "tier8_expected_value"
   ]
  },
  {
   "cell_type": "code",
   "execution_count": 85,
   "id": "d16ad81c-065d-4c1e-8d18-d2d7d8730e45",
   "metadata": {},
   "outputs": [
    {
     "data": {
      "text/plain": [
       "1.1500000000000001"
      ]
     },
     "execution_count": 85,
     "metadata": {},
     "output_type": "execute_result"
    }
   ],
   "source": [
    "tier7_expected_value = expected_return(tier7, cost_per_roll, tier7_lowest_cost)\n",
    "tier7_expected_value"
   ]
  },
  {
   "cell_type": "markdown",
   "id": "463662da-3851-4bea-90a6-ddfb7edff80b",
   "metadata": {},
   "source": [
    "## Delirium"
   ]
  },
  {
   "cell_type": "markdown",
   "id": "9c8b301f-f691-4674-8fd1-7d2cd618ca0a",
   "metadata": {},
   "source": []
  }
 ],
 "metadata": {
  "kernelspec": {
   "display_name": "Python 3",
   "language": "python",
   "name": "python3"
  },
  "language_info": {
   "codemirror_mode": {
    "name": "ipython",
    "version": 3
   },
   "file_extension": ".py",
   "mimetype": "text/x-python",
   "name": "python",
   "nbconvert_exporter": "python",
   "pygments_lexer": "ipython3",
   "version": "3.6.8"
  }
 },
 "nbformat": 4,
 "nbformat_minor": 5
}

{
 "cells": [
  {
   "cell_type": "code",
   "execution_count": 1,
   "id": "0361d1a0-07b6-4163-a4d2-c69e8a739a57",
   "metadata": {},
   "outputs": [
    {
     "name": "stdout",
     "output_type": "stream",
     "text": [
      "Defaulting to user installation because normal site-packages is not writeable\n",
      "Looking in indexes: http://binarios.intranet.bb.com.br/artifactory/api/pypi/pypi/simple, http://atf.intranet.bb.com.br/artifactory/api/pypi/bb-python-local/simple\n",
      "Requirement already satisfied: numpy in /usr/local/lib64/python3.6/site-packages (1.19.5)\n",
      "Defaulting to user installation because normal site-packages is not writeable\n",
      "Looking in indexes: http://binarios.intranet.bb.com.br/artifactory/api/pypi/pypi/simple, http://atf.intranet.bb.com.br/artifactory/api/pypi/bb-python-local/simple\n",
      "Requirement already satisfied: pandas in /usr/local/lib64/python3.6/site-packages (1.1.5)\n",
      "Requirement already satisfied: python-dateutil>=2.7.3 in /usr/local/lib/python3.6/site-packages (from pandas) (2.8.2)\n",
      "Requirement already satisfied: numpy>=1.15.4 in /usr/local/lib64/python3.6/site-packages (from pandas) (1.19.5)\n",
      "Requirement already satisfied: pytz>=2017.2 in /usr/local/lib/python3.6/site-packages (from pandas) (2022.1)\n",
      "Requirement already satisfied: six>=1.5 in /usr/local/lib/python3.6/site-packages (from python-dateutil>=2.7.3->pandas) (1.16.0)\n"
     ]
    }
   ],
   "source": [
    "!pip3 install numpy\n",
    "!pip3 install pandas"
   ]
  },
  {
   "cell_type": "code",
   "execution_count": 2,
   "id": "8524d917-132e-4776-80f1-ffc5b98fb24d",
   "metadata": {},
   "outputs": [],
   "source": [
    "import random"
   ]
  },
  {
   "cell_type": "code",
   "execution_count": 3,
   "id": "fbe0fd64-6c90-432e-9957-5dc9ddf001e3",
   "metadata": {},
   "outputs": [],
   "source": [
    "def expected_return(values_arr, cost_per_roll, index, number_of_rolls, high):\n",
    "    inicial_cost = index\n",
    "    temp_index = index\n",
    "    expected_return = 0\n",
    "    times_rolled = 0\n",
    "    \n",
    "    for x in range(number_of_rolls):\n",
    "        \n",
    "        times_rolled += 1\n",
    "        \n",
    "        values_arr.remove(index)\n",
    "        index = random.choice(values_arr)\n",
    "        values_arr.append(temp_index)\n",
    "        expected_return = index - ((cost_per_roll * times_rolled) + inicial_cost)\n",
    "        if (expected_return > 0):\n",
    "            return expected_return\n",
    "        if (index in high):\n",
    "            return expected_return\n",
    "        else:\n",
    "            temp_index = index\n",
    "            \n",
    "    return expected_return"
   ]
  },
  {
   "cell_type": "code",
   "execution_count": 4,
   "id": "b72958d5-67fd-42a6-9239-e49dd75f9e83",
   "metadata": {},
   "outputs": [],
   "source": [
    "def expected_return_high_roll(values_arr, cost_per_roll, index, high):\n",
    "    inicial_cost = index\n",
    "    temp_index = index\n",
    "    expected_return = 0\n",
    "    times_rolled = 0\n",
    "    \n",
    "    for x in range(100):\n",
    "        \n",
    "        times_rolled += 1\n",
    "        \n",
    "        values_arr.remove(index)\n",
    "        index = random.choice(values_arr)\n",
    "        values_arr.append(temp_index)\n",
    "        expected_return = index - ((cost_per_roll * times_rolled) + inicial_cost)\n",
    "        if (index in high):\n",
    "            return expected_return\n",
    "        else:\n",
    "            temp_index = index\n",
    "            \n",
    "    return expected_return"
   ]
  },
  {
   "cell_type": "markdown",
   "id": "6538ba7d-b939-4207-ba64-ed0fdbac4ce6",
   "metadata": {},
   "source": [
    "## Commom"
   ]
  },
  {
   "cell_type": "code",
   "execution_count": 5,
   "id": "7099bf21-4778-4f29-aade-0e24747d27b3",
   "metadata": {},
   "outputs": [],
   "source": [
    "juice_table = dict([(\"yellow\", 26), (\"red\", 40), (\"blue\", 40)])"
   ]
  },
  {
   "cell_type": "code",
   "execution_count": 6,
   "id": "df3ed052-bb1c-498e-b934-26ce6c016c62",
   "metadata": {},
   "outputs": [],
   "source": [
    "juice_cost = 1"
   ]
  },
  {
   "cell_type": "code",
   "execution_count": 7,
   "id": "ca371dee-3315-43fb-a680-ec798182c2f9",
   "metadata": {},
   "outputs": [],
   "source": [
    "test_size = 100000"
   ]
  },
  {
   "cell_type": "markdown",
   "id": "d7ada40a-7b01-4d69-b1d0-365bfa3a2a50",
   "metadata": {
    "tags": []
   },
   "source": [
    "## Essence"
   ]
  },
  {
   "cell_type": "markdown",
   "id": "026c886d-19ee-494e-8087-21925e26a480",
   "metadata": {
    "jp-MarkdownHeadingCollapsed": true,
    "tags": []
   },
   "source": [
    "### Essence Cost"
   ]
  },
  {
   "cell_type": "code",
   "execution_count": 8,
   "id": "d822d580-d83e-4525-b1de-ef009354f8d5",
   "metadata": {},
   "outputs": [],
   "source": [
    "tier8 = [7, 8, 9, 11]\n",
    "high_tier8 = [11]\n",
    "index_tier8 = 7"
   ]
  },
  {
   "cell_type": "code",
   "execution_count": 9,
   "id": "bb3a7190-70f9-4ab0-9825-a68752b5f8df",
   "metadata": {},
   "outputs": [],
   "source": [
    "tier7 = [9, 7, 5, 4, 4, 3, 3, 3, 3, 3, 3, 2, 2, 2, 2, 2, 2, 1, 1, 1]\n",
    "high_tier7 = [9, 7, 5, 4, 4, 3, 3, 3, 3, 3, 3]\n",
    "index_tier7 = 2"
   ]
  },
  {
   "cell_type": "code",
   "execution_count": 10,
   "id": "e70ba6c5-96a6-4371-8524-1ccaaed1bb5f",
   "metadata": {},
   "outputs": [],
   "source": [
    "juice = juice_table[\"blue\"]"
   ]
  },
  {
   "cell_type": "code",
   "execution_count": 11,
   "id": "b7d26e15-e135-4ebc-b9dc-4f11688f14c3",
   "metadata": {},
   "outputs": [],
   "source": [
    "roll_cost = 30"
   ]
  },
  {
   "cell_type": "code",
   "execution_count": 12,
   "id": "b9d9282c-73b2-4ad8-bb6f-537f54380536",
   "metadata": {},
   "outputs": [
    {
     "data": {
      "text/plain": [
       "0.75"
      ]
     },
     "execution_count": 12,
     "metadata": {},
     "output_type": "execute_result"
    }
   ],
   "source": [
    "cost_per_roll = (roll_cost * juice_cost) / juice\n",
    "cost_per_roll"
   ]
  },
  {
   "cell_type": "markdown",
   "id": "e323639c-700a-46b2-b5d0-d4dbc9e8c74a",
   "metadata": {
    "jp-MarkdownHeadingCollapsed": true,
    "tags": []
   },
   "source": [
    "### Essence Return 1 roll"
   ]
  },
  {
   "cell_type": "code",
   "execution_count": 13,
   "id": "a54f8e9b-8409-40b0-a87a-ed176c139301",
   "metadata": {},
   "outputs": [
    {
     "name": "stdout",
     "output_type": "stream",
     "text": [
      "1.58662\n",
      "0.40451\n"
     ]
    }
   ],
   "source": [
    "number_of_rolls = 1\n",
    "average = 0\n",
    "\n",
    "for n in range(test_size):\n",
    "    average += expected_return(tier8, cost_per_roll, index_tier8, number_of_rolls, high_tier8)\n",
    "print(average / test_size)\n",
    "\n",
    "average = 0\n",
    "\n",
    "for n in range(test_size):\n",
    "    average += expected_return(tier7, cost_per_roll, index_tier7, number_of_rolls, high_tier7)\n",
    "print(average / test_size)"
   ]
  },
  {
   "cell_type": "markdown",
   "id": "39b1ff5e-866e-4ba4-a8a1-ec51d2589aa6",
   "metadata": {
    "jp-MarkdownHeadingCollapsed": true,
    "tags": []
   },
   "source": [
    "### Essence Return 2 roll"
   ]
  },
  {
   "cell_type": "code",
   "execution_count": 14,
   "id": "fc1a2a14-7628-4409-8e78-ea229934dfb1",
   "metadata": {},
   "outputs": [
    {
     "name": "stdout",
     "output_type": "stream",
     "text": [
      "1.58264\n",
      "0.74565\n"
     ]
    }
   ],
   "source": [
    "number_of_rolls = 2\n",
    "average = 0\n",
    "\n",
    "for n in range(test_size):\n",
    "    average += expected_return(tier8, cost_per_roll, index_tier8, number_of_rolls, high_tier8)\n",
    "print(average / test_size)\n",
    "\n",
    "average = 0\n",
    "\n",
    "for n in range(test_size):\n",
    "    average += expected_return(tier7, cost_per_roll, index_tier7, number_of_rolls, high_tier7)\n",
    "print(average / test_size)"
   ]
  },
  {
   "cell_type": "markdown",
   "id": "baddfd09-b8de-4842-a2ef-c39e2b3e9048",
   "metadata": {
    "jp-MarkdownHeadingCollapsed": true,
    "tags": []
   },
   "source": [
    "### Essence Return 3 roll"
   ]
  },
  {
   "cell_type": "code",
   "execution_count": 15,
   "id": "74151a4b-a986-47b1-81c9-7121530281a8",
   "metadata": {},
   "outputs": [
    {
     "name": "stdout",
     "output_type": "stream",
     "text": [
      "1.58226\n",
      "0.8815575\n"
     ]
    }
   ],
   "source": [
    "number_of_rolls = 3\n",
    "average = 0\n",
    "\n",
    "for n in range(test_size):\n",
    "    average += expected_return(tier8, cost_per_roll, index_tier8, number_of_rolls, high_tier8)\n",
    "print(average / test_size)\n",
    "\n",
    "average = 0\n",
    "\n",
    "for n in range(test_size):\n",
    "    average += expected_return(tier7, cost_per_roll, index_tier7, number_of_rolls, high_tier7)\n",
    "print(average / test_size)"
   ]
  },
  {
   "cell_type": "markdown",
   "id": "3f867339-42d5-4b6d-a652-8888a76aefe3",
   "metadata": {},
   "source": [
    "### Essence Return roll for high"
   ]
  },
  {
   "cell_type": "code",
   "execution_count": 16,
   "id": "5bc02b36-6bf8-4904-a480-610545045e64",
   "metadata": {},
   "outputs": [
    {
     "name": "stdout",
     "output_type": "stream",
     "text": [
      "1.752415\n",
      "0.979655\n"
     ]
    }
   ],
   "source": [
    "average = 0\n",
    "\n",
    "for n in range(test_size):\n",
    "    average += expected_return_high_roll(tier8, cost_per_roll, index_tier8, high_tier8)\n",
    "print(average / test_size)\n",
    "\n",
    "average = 0\n",
    "\n",
    "for n in range(test_size):\n",
    "    average += expected_return_high_roll(tier7, cost_per_roll, index_tier7, high_tier7)\n",
    "print(average / test_size)"
   ]
  },
  {
   "cell_type": "markdown",
   "id": "463662da-3851-4bea-90a6-ddfb7edff80b",
   "metadata": {
    "tags": []
   },
   "source": [
    "## Delirium"
   ]
  },
  {
   "cell_type": "markdown",
   "id": "a839f724-1d46-456b-9ea7-332c26d6fa53",
   "metadata": {
    "jp-MarkdownHeadingCollapsed": true,
    "tags": []
   },
   "source": [
    "### Delirium Cost"
   ]
  },
  {
   "cell_type": "code",
   "execution_count": 17,
   "id": "2dfb4db8-d5b6-4422-a63e-02d37ea8f90b",
   "metadata": {},
   "outputs": [],
   "source": [
    "orbs = [19, 19, 10, 7, 6, 6, 6, 6, 6, 6, 6, 6, 5, 5, 5, 5, 5, 5, 5]\n",
    "high_orbs = [19, 19, 10]\n",
    "index_orbs = 5"
   ]
  },
  {
   "cell_type": "code",
   "execution_count": 18,
   "id": "bc068c4e-157e-4dea-b422-15ba6c5918a4",
   "metadata": {},
   "outputs": [],
   "source": [
    "juice = juice_table[\"blue\"]"
   ]
  },
  {
   "cell_type": "code",
   "execution_count": 19,
   "id": "10ac5511-65f5-45ef-8cb7-12a05ef1a7ea",
   "metadata": {},
   "outputs": [],
   "source": [
    "roll_cost = 30"
   ]
  },
  {
   "cell_type": "code",
   "execution_count": 20,
   "id": "b334fee1-ee3e-4f37-9065-f3acc034ebce",
   "metadata": {},
   "outputs": [
    {
     "data": {
      "text/plain": [
       "0.75"
      ]
     },
     "execution_count": 20,
     "metadata": {},
     "output_type": "execute_result"
    }
   ],
   "source": [
    "cost_per_roll = (roll_cost * juice_cost) / juice\n",
    "cost_per_roll"
   ]
  },
  {
   "cell_type": "markdown",
   "id": "59556d7c-bb93-4b72-aa55-ec9721f7b1c3",
   "metadata": {
    "jp-MarkdownHeadingCollapsed": true,
    "tags": []
   },
   "source": [
    "### Delirium Return 1 roll"
   ]
  },
  {
   "cell_type": "code",
   "execution_count": 21,
   "id": "f4e7eeab-f9fe-416a-8921-e7445aac96fa",
   "metadata": {},
   "outputs": [
    {
     "name": "stdout",
     "output_type": "stream",
     "text": [
      "1.63257\n"
     ]
    }
   ],
   "source": [
    "number_of_rolls = 1\n",
    "average = 0\n",
    "\n",
    "for n in range(test_size):\n",
    "    average += expected_return(orbs, cost_per_roll, index_orbs, number_of_rolls, high_orbs)\n",
    "print(average / test_size)"
   ]
  },
  {
   "cell_type": "markdown",
   "id": "eae5b4e3-dc8a-4b44-b957-7a7cc4aa74f8",
   "metadata": {
    "jp-MarkdownHeadingCollapsed": true,
    "tags": []
   },
   "source": [
    "### Delirium Return 2 roll"
   ]
  },
  {
   "cell_type": "code",
   "execution_count": 22,
   "id": "723459fd-1a62-415c-ad56-ad82e2160d1f",
   "metadata": {},
   "outputs": [
    {
     "name": "stdout",
     "output_type": "stream",
     "text": [
      "2.17953\n"
     ]
    }
   ],
   "source": [
    "number_of_rolls = 2\n",
    "average = 0\n",
    "\n",
    "for n in range(test_size):\n",
    "    average += expected_return(orbs, cost_per_roll, index_orbs, number_of_rolls, high_orbs)\n",
    "print(average / test_size)"
   ]
  },
  {
   "cell_type": "markdown",
   "id": "bc441559-7e94-4944-b21d-cc052b31deed",
   "metadata": {
    "jp-MarkdownHeadingCollapsed": true,
    "tags": []
   },
   "source": [
    "### Delirium Return 3 roll"
   ]
  },
  {
   "cell_type": "code",
   "execution_count": 23,
   "id": "084ca6de-568a-4aac-93d9-e889402f923b",
   "metadata": {},
   "outputs": [
    {
     "name": "stdout",
     "output_type": "stream",
     "text": [
      "2.4665775\n"
     ]
    }
   ],
   "source": [
    "number_of_rolls = 3\n",
    "average = 0\n",
    "\n",
    "for n in range(test_size):\n",
    "    average += expected_return(orbs, cost_per_roll, index_orbs, number_of_rolls, high_orbs)\n",
    "print(average / test_size)"
   ]
  },
  {
   "cell_type": "markdown",
   "id": "8ba42850-3ade-4bff-ad84-7d7252cbc2c8",
   "metadata": {},
   "source": [
    "### Delirium Return roll for high"
   ]
  },
  {
   "cell_type": "code",
   "execution_count": 24,
   "id": "860af095-200b-40fe-a0dd-1ff45dc6bda8",
   "metadata": {},
   "outputs": [
    {
     "name": "stdout",
     "output_type": "stream",
     "text": [
      "6.4929425\n"
     ]
    }
   ],
   "source": [
    "average = 0\n",
    "\n",
    "for n in range(test_size):\n",
    "    average += expected_return_high_roll(orbs, cost_per_roll, index_orbs, high_orbs)\n",
    "print(average / test_size)"
   ]
  },
  {
   "cell_type": "markdown",
   "id": "9c8b301f-f691-4674-8fd1-7d2cd618ca0a",
   "metadata": {},
   "source": [
    "## Oil"
   ]
  },
  {
   "cell_type": "markdown",
   "id": "43c6e384-e20b-4711-90b7-bd52aa342ece",
   "metadata": {
    "jp-MarkdownHeadingCollapsed": true,
    "tags": []
   },
   "source": [
    "### Oil Cost"
   ]
  },
  {
   "cell_type": "code",
   "execution_count": 25,
   "id": "e0d38bda-0b8c-4547-83d5-9cdae363b51e",
   "metadata": {},
   "outputs": [],
   "source": [
    "oils = [63, 30, 25, 9, 3, 1, 1, 1, 1, 1, 1, 1, 1, 1, 1]\n",
    "high_oils = [63, 30, 25, 9]\n",
    "index_oils = 1"
   ]
  },
  {
   "cell_type": "code",
   "execution_count": 26,
   "id": "ed2fc176-a217-4b0d-b6eb-b2fc6adb4e41",
   "metadata": {},
   "outputs": [],
   "source": [
    "juice = juice_table[\"yellow\"]"
   ]
  },
  {
   "cell_type": "code",
   "execution_count": 27,
   "id": "2e5989d0-6fc8-42af-afa2-19258a65132b",
   "metadata": {},
   "outputs": [],
   "source": [
    "roll_cost = 30"
   ]
  },
  {
   "cell_type": "code",
   "execution_count": 28,
   "id": "bd161a7a-79c6-4f82-8a63-6031c4ca9c2b",
   "metadata": {},
   "outputs": [
    {
     "data": {
      "text/plain": [
       "1.1538461538461537"
      ]
     },
     "execution_count": 28,
     "metadata": {},
     "output_type": "execute_result"
    }
   ],
   "source": [
    "cost_per_roll = (roll_cost * juice_cost) / juice\n",
    "cost_per_roll"
   ]
  },
  {
   "cell_type": "markdown",
   "id": "0e6c159b-e76b-4f03-ad2e-886b51d0accc",
   "metadata": {
    "jp-MarkdownHeadingCollapsed": true,
    "tags": []
   },
   "source": [
    "### Oil Return 1 roll"
   ]
  },
  {
   "cell_type": "code",
   "execution_count": 29,
   "id": "ddc9a3db-fe63-4c15-aacb-452067547070",
   "metadata": {},
   "outputs": [
    {
     "name": "stdout",
     "output_type": "stream",
     "text": [
      "7.71501384613679\n"
     ]
    }
   ],
   "source": [
    "number_of_rolls = 1\n",
    "average = 0\n",
    "\n",
    "for n in range(test_size):\n",
    "    average += expected_return(oils, cost_per_roll, index_oils, number_of_rolls, high_oils)\n",
    "print(average / test_size)"
   ]
  },
  {
   "cell_type": "markdown",
   "id": "f54ccbed-664a-4fa9-bb3b-190290deaa5d",
   "metadata": {
    "jp-MarkdownHeadingCollapsed": true,
    "tags": []
   },
   "source": [
    "### Oil Return 2 roll"
   ]
  },
  {
   "cell_type": "code",
   "execution_count": 30,
   "id": "087ab146-b1a2-4653-ae5e-49579d23c53e",
   "metadata": {},
   "outputs": [
    {
     "name": "stdout",
     "output_type": "stream",
     "text": [
      "12.779438461519273\n"
     ]
    }
   ],
   "source": [
    "number_of_rolls = 2\n",
    "average = 0\n",
    "\n",
    "for n in range(test_size):\n",
    "    average += expected_return(oils, cost_per_roll, index_oils, number_of_rolls, high_oils)\n",
    "print(average / test_size)"
   ]
  },
  {
   "cell_type": "markdown",
   "id": "0121c353-b539-4167-b76d-3fb8f98d117e",
   "metadata": {
    "jp-MarkdownHeadingCollapsed": true,
    "tags": []
   },
   "source": [
    "### Oil Return 3 roll"
   ]
  },
  {
   "cell_type": "code",
   "execution_count": 31,
   "id": "3fac83f8-3da9-4f6e-86b2-2870fdb70745",
   "metadata": {},
   "outputs": [
    {
     "name": "stdout",
     "output_type": "stream",
     "text": [
      "16.132331538471536\n"
     ]
    }
   ],
   "source": [
    "number_of_rolls = 3\n",
    "average = 0\n",
    "\n",
    "for n in range(test_size):\n",
    "    average += expected_return(oils, cost_per_roll, index_oils, number_of_rolls, high_oils)\n",
    "print(average / test_size)"
   ]
  },
  {
   "cell_type": "markdown",
   "id": "84374eee-c517-43d3-baf2-5e2bf82e7c24",
   "metadata": {},
   "source": [
    "### Oil Return roll for high"
   ]
  },
  {
   "cell_type": "code",
   "execution_count": 32,
   "id": "bd9bee61-f540-4e8f-9ff4-ed871973ddc9",
   "metadata": {},
   "outputs": [
    {
     "name": "stdout",
     "output_type": "stream",
     "text": [
      "26.625782307693715\n"
     ]
    }
   ],
   "source": [
    "average = 0\n",
    "\n",
    "for n in range(test_size):\n",
    "    average += expected_return_high_roll(oils, cost_per_roll, index_oils, high_oils)\n",
    "print(average / test_size)"
   ]
  },
  {
   "cell_type": "markdown",
   "id": "d1db0840-c521-41d8-ab3e-da9864a38bbd",
   "metadata": {},
   "source": [
    "## Fossil"
   ]
  },
  {
   "cell_type": "markdown",
   "id": "20b1fc20-aca8-401d-9150-dba4a8f47f09",
   "metadata": {
    "tags": []
   },
   "source": [
    "### Fossil Cost"
   ]
  },
  {
   "cell_type": "code",
   "execution_count": 33,
   "id": "fcfc6b2a-746a-4cf6-85f2-9deb7a336333",
   "metadata": {},
   "outputs": [],
   "source": [
    "fossils = [95, 66, 30, 10, 8, 5, 3, 3, 3, 3, 2, 2, 1, 1, 1, 1, 1, 1, 1, 1, 1, 1, 1, 1]\n",
    "high_fossils = [95]\n",
    "index_fossils = 1"
   ]
  },
  {
   "cell_type": "code",
   "execution_count": 34,
   "id": "f18d6954-f874-49cb-8c8a-2e927baeb438",
   "metadata": {},
   "outputs": [],
   "source": [
    "juice = juice_table[\"red\"]"
   ]
  },
  {
   "cell_type": "code",
   "execution_count": 35,
   "id": "076a2169-26f2-405d-82ab-452dcbd47ce5",
   "metadata": {},
   "outputs": [],
   "source": [
    "roll_cost = 30"
   ]
  },
  {
   "cell_type": "code",
   "execution_count": 36,
   "id": "d0bdf2ef-a01f-4bfa-8ac4-fc8489919ed1",
   "metadata": {},
   "outputs": [
    {
     "data": {
      "text/plain": [
       "0.75"
      ]
     },
     "execution_count": 36,
     "metadata": {},
     "output_type": "execute_result"
    }
   ],
   "source": [
    "cost_per_roll = (roll_cost * juice_cost) / juice\n",
    "cost_per_roll"
   ]
  },
  {
   "cell_type": "markdown",
   "id": "a4a73e0c-7ee3-4193-9573-44afa6f578db",
   "metadata": {
    "jp-MarkdownHeadingCollapsed": true,
    "tags": []
   },
   "source": [
    "### Fossil Return 1 roll"
   ]
  },
  {
   "cell_type": "code",
   "execution_count": 37,
   "id": "3867731a-0ab1-488f-8a01-f035ce282090",
   "metadata": {},
   "outputs": [
    {
     "name": "stdout",
     "output_type": "stream",
     "text": [
      "15.273535\n"
     ]
    }
   ],
   "source": [
    "number_of_rolls = 3\n",
    "average = 0\n",
    "\n",
    "for n in range(test_size):\n",
    "    average += expected_return(fossils, cost_per_roll, index_fossils, number_of_rolls, high_fossils)\n",
    "print(average / test_size)"
   ]
  },
  {
   "cell_type": "markdown",
   "id": "be81c2bc-a1c4-436e-bb86-0315fca63a33",
   "metadata": {
    "jp-MarkdownHeadingCollapsed": true,
    "tags": []
   },
   "source": [
    "### Fossil Return 2 roll"
   ]
  },
  {
   "cell_type": "code",
   "execution_count": 38,
   "id": "0fd94397-4ed1-4178-8e67-8b9f24cdc57f",
   "metadata": {},
   "outputs": [
    {
     "name": "stdout",
     "output_type": "stream",
     "text": [
      "15.3234925\n"
     ]
    }
   ],
   "source": [
    "number_of_rolls = 3\n",
    "average = 0\n",
    "\n",
    "for n in range(test_size):\n",
    "    average += expected_return(fossils, cost_per_roll, index_fossils, number_of_rolls, high_fossils)\n",
    "print(average / test_size)"
   ]
  },
  {
   "cell_type": "markdown",
   "id": "013ddc72-0b48-49e6-9237-fd1d97d98ee9",
   "metadata": {
    "jp-MarkdownHeadingCollapsed": true,
    "tags": []
   },
   "source": [
    "### Fossil Return 3 roll"
   ]
  },
  {
   "cell_type": "code",
   "execution_count": 39,
   "id": "28e5cdcd-d858-43b8-9bc8-20e33613ebc1",
   "metadata": {},
   "outputs": [
    {
     "name": "stdout",
     "output_type": "stream",
     "text": [
      "15.0610975\n"
     ]
    }
   ],
   "source": [
    "number_of_rolls = 3\n",
    "average = 0\n",
    "\n",
    "for n in range(test_size):\n",
    "    average += expected_return(fossils, cost_per_roll, index_fossils, number_of_rolls, high_fossils)\n",
    "print(average / test_size)"
   ]
  },
  {
   "cell_type": "markdown",
   "id": "f0f50d44-1c8b-4901-9a23-45ca33e6d15d",
   "metadata": {},
   "source": [
    "### Fossil Return roll for high"
   ]
  },
  {
   "cell_type": "code",
   "execution_count": 119,
   "id": "58881540-96a8-4d84-8b3c-8fdcfb0fd5aa",
   "metadata": {},
   "outputs": [
    {
     "name": "stdout",
     "output_type": "stream",
     "text": [
      "60.825\n"
     ]
    }
   ],
   "source": [
    "average = 0\n",
    "\n",
    "for n in range(10):\n",
    "    average += expected_return_high_roll(fossils, cost_per_roll, index_fossils, high_fossils)\n",
    "print(average / 10)"
   ]
  },
  {
   "cell_type": "markdown",
   "id": "e3cd38a2-0cce-4a29-ade4-ed6274ddb050",
   "metadata": {},
   "source": [
    "## Catalyst"
   ]
  },
  {
   "cell_type": "markdown",
   "id": "936a1d7e-5df0-4a6e-afe7-b48f1de61fbe",
   "metadata": {
    "jp-MarkdownHeadingCollapsed": true,
    "tags": []
   },
   "source": [
    "### Catalyst Cost"
   ]
  },
  {
   "cell_type": "code",
   "execution_count": 41,
   "id": "53275fae-2a0c-433d-8bfb-90bfbff400a1",
   "metadata": {},
   "outputs": [],
   "source": [
    "catalysts = [9, 5, 4, 2, 1, 1, 1, 1, 1, 1]\n",
    "high_catalysts = [9]\n",
    "index_catalysts = 1"
   ]
  },
  {
   "cell_type": "code",
   "execution_count": 42,
   "id": "9ed543a7-c027-4622-9b14-11a886013d2b",
   "metadata": {},
   "outputs": [],
   "source": [
    "juice = juice_table[\"yellow\"]"
   ]
  },
  {
   "cell_type": "code",
   "execution_count": 43,
   "id": "1ec1cd8e-afd9-45f1-987f-1efa0040a54d",
   "metadata": {},
   "outputs": [],
   "source": [
    "roll_cost = 30"
   ]
  },
  {
   "cell_type": "code",
   "execution_count": 44,
   "id": "48f713ca-6e33-4c4d-a3c4-fbe7c8e30b55",
   "metadata": {},
   "outputs": [
    {
     "data": {
      "text/plain": [
       "1.1538461538461537"
      ]
     },
     "execution_count": 44,
     "metadata": {},
     "output_type": "execute_result"
    }
   ],
   "source": [
    "cost_per_roll = (roll_cost * juice_cost) / juice\n",
    "cost_per_roll"
   ]
  },
  {
   "cell_type": "markdown",
   "id": "76443df4-449f-4a70-a18d-20be6d7871d6",
   "metadata": {
    "jp-MarkdownHeadingCollapsed": true,
    "tags": []
   },
   "source": [
    "### Catalyst Return 1 roll"
   ]
  },
  {
   "cell_type": "code",
   "execution_count": 45,
   "id": "6f3a87dd-cece-4407-b01b-e2f027e2c05d",
   "metadata": {},
   "outputs": [
    {
     "name": "stdout",
     "output_type": "stream",
     "text": [
      "1.1065730769249098\n"
     ]
    }
   ],
   "source": [
    "number_of_rolls = 3\n",
    "average = 0\n",
    "\n",
    "for n in range(test_size):\n",
    "    average += expected_return(catalysts, cost_per_roll, index_catalysts, number_of_rolls, high_catalysts)\n",
    "print(average / test_size)"
   ]
  },
  {
   "cell_type": "markdown",
   "id": "45553e58-c6b2-42f9-9d73-13f986637664",
   "metadata": {
    "jp-MarkdownHeadingCollapsed": true,
    "tags": []
   },
   "source": [
    "### Catalyst Return 2 roll"
   ]
  },
  {
   "cell_type": "code",
   "execution_count": 46,
   "id": "32c28ef2-581f-411a-b376-443e36377076",
   "metadata": {},
   "outputs": [
    {
     "name": "stdout",
     "output_type": "stream",
     "text": [
      "1.1179123076941864\n"
     ]
    }
   ],
   "source": [
    "number_of_rolls = 3\n",
    "average = 0\n",
    "\n",
    "for n in range(test_size):\n",
    "    average += expected_return(catalysts, cost_per_roll, index_catalysts, number_of_rolls, high_catalysts)\n",
    "print(average / test_size)"
   ]
  },
  {
   "cell_type": "markdown",
   "id": "a81f27ac-bbc0-4e26-963b-ad41cb63543f",
   "metadata": {
    "jp-MarkdownHeadingCollapsed": true,
    "tags": []
   },
   "source": [
    "### Catalyst Return 3 roll"
   ]
  },
  {
   "cell_type": "code",
   "execution_count": 47,
   "id": "1bcc7034-d0d1-4595-8ec5-eedcc7af2cb5",
   "metadata": {},
   "outputs": [
    {
     "name": "stdout",
     "output_type": "stream",
     "text": [
      "1.1236953846172635\n"
     ]
    }
   ],
   "source": [
    "number_of_rolls = 3\n",
    "average = 0\n",
    "\n",
    "for n in range(test_size):\n",
    "    average += expected_return(catalysts, cost_per_roll, index_catalysts, number_of_rolls, high_catalysts)\n",
    "print(average / test_size)"
   ]
  },
  {
   "cell_type": "markdown",
   "id": "7f9d6cd7-6419-4c8d-b4d9-9d28fc577b8f",
   "metadata": {},
   "source": [
    "### Catalyst Return roll for high"
   ]
  },
  {
   "cell_type": "code",
   "execution_count": 48,
   "id": "b41a122e-4290-418b-a156-103cbd61b714",
   "metadata": {},
   "outputs": [
    {
     "name": "stdout",
     "output_type": "stream",
     "text": [
      "-2.374310769229771\n"
     ]
    }
   ],
   "source": [
    "average = 0\n",
    "\n",
    "for n in range(test_size):\n",
    "    average += expected_return_high_roll(catalysts, cost_per_roll, index_catalysts, high_catalysts)\n",
    "print(average / test_size)"
   ]
  },
  {
   "cell_type": "markdown",
   "id": "a13c61ab-bf8a-46e1-a582-f329e8d11b4e",
   "metadata": {
    "tags": []
   },
   "source": [
    "## Scarabs"
   ]
  },
  {
   "cell_type": "markdown",
   "id": "5ae8a395-e449-49b6-be62-9e7c740dae45",
   "metadata": {
    "jp-MarkdownHeadingCollapsed": true,
    "tags": []
   },
   "source": [
    "### Scarabs Cost"
   ]
  },
  {
   "cell_type": "code",
   "execution_count": 49,
   "id": "40e517c1-13b3-4922-897c-491afa8ee294",
   "metadata": {},
   "outputs": [],
   "source": [
    "polished_scarabs = [7, 6, 4, 3, 2, 2, 2, 1, 1, 1, 1, 1, 1, 1, 1, 1]\n",
    "high_polished_scarabs = [7, 6]\n",
    "index_polished_scarabs = 1"
   ]
  },
  {
   "cell_type": "code",
   "execution_count": 50,
   "id": "f63a9782-78a2-4ed2-8471-11239fe454a6",
   "metadata": {},
   "outputs": [],
   "source": [
    "guilded_scarabs = [14, 8, 6, 6, 6, 5, 5, 5, 5, 5, 5, 5, 5, 5, 5]\n",
    "high_guilded_scarabs = [14, 8]\n",
    "index_guilded_scarabs = 5"
   ]
  },
  {
   "cell_type": "code",
   "execution_count": 51,
   "id": "b05a2b89-2a92-45df-be8f-23deb893a6e5",
   "metadata": {},
   "outputs": [],
   "source": [
    "winged_scarabs = [74, 74, 74, 70, 63, 55, 55, 55, 55, 55, 55, 55, 55, 55, 55]\n",
    "high_winged_scarabs = [74, 74, 74]\n",
    "index_winged_scarabs = 55"
   ]
  },
  {
   "cell_type": "code",
   "execution_count": 52,
   "id": "94ca2a87-d998-4d3e-a1d5-51fca008fdaa",
   "metadata": {},
   "outputs": [],
   "source": [
    "juice = juice_table[\"red\"]"
   ]
  },
  {
   "cell_type": "code",
   "execution_count": 53,
   "id": "316f833e-2d40-4e22-99e8-e86a20021d9d",
   "metadata": {},
   "outputs": [],
   "source": [
    "roll_cost = 30"
   ]
  },
  {
   "cell_type": "code",
   "execution_count": 54,
   "id": "a08b7197-d6a9-4847-9cc4-57dc4c4a5272",
   "metadata": {},
   "outputs": [
    {
     "data": {
      "text/plain": [
       "0.75"
      ]
     },
     "execution_count": 54,
     "metadata": {},
     "output_type": "execute_result"
    }
   ],
   "source": [
    "cost_per_roll = (roll_cost * juice_cost) / juice\n",
    "cost_per_roll"
   ]
  },
  {
   "cell_type": "markdown",
   "id": "a81df6bb-e2b8-4e95-9d6d-0f6b1fe73e5d",
   "metadata": {
    "jp-MarkdownHeadingCollapsed": true,
    "tags": []
   },
   "source": [
    "### Scarabs Return 1 roll"
   ]
  },
  {
   "cell_type": "code",
   "execution_count": 55,
   "id": "5e7732af-0194-46ad-bb09-e023d3a76507",
   "metadata": {},
   "outputs": [
    {
     "name": "stdout",
     "output_type": "stream",
     "text": [
      "0.8798\n",
      "0.5490475\n",
      "10.2372075\n"
     ]
    }
   ],
   "source": [
    "number_of_rolls = 3\n",
    "average = 0\n",
    "\n",
    "for n in range(test_size):\n",
    "    average += expected_return(polished_scarabs, cost_per_roll, index_polished_scarabs, number_of_rolls, high_polished_scarabs)\n",
    "print(average / test_size)\n",
    "\n",
    "average = 0\n",
    "\n",
    "for n in range(test_size):\n",
    "    average += expected_return(guilded_scarabs, cost_per_roll, index_guilded_scarabs, number_of_rolls, high_guilded_scarabs)\n",
    "print(average / test_size)\n",
    "\n",
    "average = 0\n",
    "\n",
    "for n in range(test_size):\n",
    "    average += expected_return(winged_scarabs, cost_per_roll, index_winged_scarabs, number_of_rolls, high_winged_scarabs)\n",
    "print(average / test_size)"
   ]
  },
  {
   "cell_type": "markdown",
   "id": "c981bb04-dabc-4992-8295-cb979bb87a75",
   "metadata": {
    "jp-MarkdownHeadingCollapsed": true,
    "tags": []
   },
   "source": [
    "### Scarabs Return 2 roll"
   ]
  },
  {
   "cell_type": "code",
   "execution_count": 56,
   "id": "5171055b-5850-4c85-9c2e-4082a63b3109",
   "metadata": {},
   "outputs": [
    {
     "name": "stdout",
     "output_type": "stream",
     "text": [
      "0.8835175\n",
      "0.538545\n",
      "10.1734375\n"
     ]
    }
   ],
   "source": [
    "number_of_rolls = 3\n",
    "average = 0\n",
    "\n",
    "for n in range(test_size):\n",
    "    average += expected_return(polished_scarabs, cost_per_roll, index_polished_scarabs, number_of_rolls, high_polished_scarabs)\n",
    "print(average / test_size)\n",
    "\n",
    "average = 0\n",
    "\n",
    "for n in range(test_size):\n",
    "    average += expected_return(guilded_scarabs, cost_per_roll, index_guilded_scarabs, number_of_rolls, high_guilded_scarabs)\n",
    "print(average / test_size)\n",
    "\n",
    "average = 0\n",
    "\n",
    "for n in range(test_size):\n",
    "    average += expected_return(winged_scarabs, cost_per_roll, index_winged_scarabs, number_of_rolls, high_winged_scarabs)\n",
    "print(average / test_size)"
   ]
  },
  {
   "cell_type": "markdown",
   "id": "61e1fefd-2e1d-4aa1-b047-b4a51238d6f7",
   "metadata": {
    "jp-MarkdownHeadingCollapsed": true,
    "tags": []
   },
   "source": [
    "### Scarabs Return 3 roll"
   ]
  },
  {
   "cell_type": "code",
   "execution_count": 57,
   "id": "73c53f6d-aff6-4a62-96f5-6d981cc9e11a",
   "metadata": {},
   "outputs": [
    {
     "name": "stdout",
     "output_type": "stream",
     "text": [
      "0.8801225\n",
      "0.5300875\n",
      "10.21688\n"
     ]
    }
   ],
   "source": [
    "number_of_rolls = 3\n",
    "average = 0\n",
    "\n",
    "for n in range(test_size):\n",
    "    average += expected_return(polished_scarabs, cost_per_roll, index_polished_scarabs, number_of_rolls, high_polished_scarabs)\n",
    "print(average / test_size)\n",
    "\n",
    "average = 0\n",
    "\n",
    "for n in range(test_size):\n",
    "    average += expected_return(guilded_scarabs, cost_per_roll, index_guilded_scarabs, number_of_rolls, high_guilded_scarabs)\n",
    "print(average / test_size)\n",
    "\n",
    "average = 0\n",
    "\n",
    "for n in range(test_size):\n",
    "    average += expected_return(winged_scarabs, cost_per_roll, index_winged_scarabs, number_of_rolls, high_winged_scarabs)\n",
    "print(average / test_size)"
   ]
  },
  {
   "cell_type": "markdown",
   "id": "83c99a2e-b4e4-402a-a5df-e14c8cf28a6d",
   "metadata": {},
   "source": [
    "### Scarabs Return roll for high"
   ]
  },
  {
   "cell_type": "code",
   "execution_count": 58,
   "id": "a0db687b-7b85-4b48-9464-f46da1001ea4",
   "metadata": {},
   "outputs": [
    {
     "name": "stdout",
     "output_type": "stream",
     "text": [
      "-0.1102025\n",
      "0.753945\n",
      "15.5026225\n"
     ]
    }
   ],
   "source": [
    "average = 0\n",
    "\n",
    "for n in range(test_size):\n",
    "    average += expected_return_high_roll(polished_scarabs, cost_per_roll, index_polished_scarabs, high_polished_scarabs)\n",
    "print(average / test_size)\n",
    "\n",
    "average = 0\n",
    "\n",
    "for n in range(test_size):\n",
    "    average += expected_return_high_roll(guilded_scarabs, cost_per_roll, index_guilded_scarabs, high_guilded_scarabs)\n",
    "print(average / test_size)\n",
    "\n",
    "average = 0\n",
    "\n",
    "for n in range(test_size):\n",
    "    average += expected_return_high_roll(winged_scarabs, cost_per_roll, index_winged_scarabs, high_winged_scarabs)\n",
    "print(average / test_size)"
   ]
  },
  {
   "cell_type": "code",
   "execution_count": null,
   "id": "923a13d7-123f-4216-b181-5146fd4784b1",
   "metadata": {},
   "outputs": [],
   "source": []
  }
 ],
 "metadata": {
  "kernelspec": {
   "display_name": "Python 3",
   "language": "python",
   "name": "python3"
  },
  "language_info": {
   "codemirror_mode": {
    "name": "ipython",
    "version": 3
   },
   "file_extension": ".py",
   "mimetype": "text/x-python",
   "name": "python",
   "nbconvert_exporter": "python",
   "pygments_lexer": "ipython3",
   "version": "3.6.8"
  }
 },
 "nbformat": 4,
 "nbformat_minor": 5
}

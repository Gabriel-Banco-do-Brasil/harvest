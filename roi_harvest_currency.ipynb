{
 "cells": [
  {
   "cell_type": "code",
   "execution_count": 1,
   "id": "0361d1a0-07b6-4163-a4d2-c69e8a739a57",
   "metadata": {},
   "outputs": [
    {
     "name": "stdout",
     "output_type": "stream",
     "text": [
      "Defaulting to user installation because normal site-packages is not writeable\n",
      "Looking in indexes: http://binarios.intranet.bb.com.br/artifactory/api/pypi/pypi/simple, http://atf.intranet.bb.com.br/artifactory/api/pypi/bb-python-local/simple\n",
      "Requirement already satisfied: numpy in /usr/local/lib64/python3.6/site-packages (1.19.5)\n",
      "Defaulting to user installation because normal site-packages is not writeable\n",
      "Looking in indexes: http://binarios.intranet.bb.com.br/artifactory/api/pypi/pypi/simple, http://atf.intranet.bb.com.br/artifactory/api/pypi/bb-python-local/simple\n",
      "Requirement already satisfied: pandas in /usr/local/lib64/python3.6/site-packages (1.1.5)\n",
      "Requirement already satisfied: numpy>=1.15.4 in /usr/local/lib64/python3.6/site-packages (from pandas) (1.19.5)\n",
      "Requirement already satisfied: python-dateutil>=2.7.3 in /usr/local/lib/python3.6/site-packages (from pandas) (2.8.2)\n",
      "Requirement already satisfied: pytz>=2017.2 in /usr/local/lib/python3.6/site-packages (from pandas) (2022.1)\n",
      "Requirement already satisfied: six>=1.5 in /usr/local/lib/python3.6/site-packages (from python-dateutil>=2.7.3->pandas) (1.16.0)\n"
     ]
    }
   ],
   "source": [
    "!pip3 install numpy\n",
    "!pip3 install pandas"
   ]
  },
  {
   "cell_type": "code",
   "execution_count": 95,
   "id": "8524d917-132e-4776-80f1-ffc5b98fb24d",
   "metadata": {},
   "outputs": [],
   "source": [
    "import random"
   ]
  },
  {
   "cell_type": "code",
   "execution_count": 96,
   "id": "fbe0fd64-6c90-432e-9957-5dc9ddf001e3",
   "metadata": {},
   "outputs": [],
   "source": [
    "def expected_return(values_arr, cost_per_roll, index, number_of_rolls):\n",
    "    inicial_cost = index\n",
    "    temp_index = index\n",
    "    expected_return = 0\n",
    "    times_rolled = 0\n",
    "    \n",
    "    for x in range(number_of_rolls):\n",
    "        \n",
    "        times_rolled += 1\n",
    "        \n",
    "        values_arr.remove(index)\n",
    "        index = random.choice(values_arr)\n",
    "        values_arr.append(temp_index)\n",
    "        expected_return = index - ((cost_per_roll * times_rolled) + inicial_cost)\n",
    "        if (expected_return > 0):\n",
    "            return expected_return\n",
    "        else:\n",
    "            temp_index = index\n",
    "            \n",
    "    return expected_return"
   ]
  },
  {
   "cell_type": "code",
   "execution_count": 118,
   "id": "b72958d5-67fd-42a6-9239-e49dd75f9e83",
   "metadata": {},
   "outputs": [],
   "source": [
    "def expected_return_high_roll(values_arr, cost_per_roll, index, high):\n",
    "    inicial_cost = index\n",
    "    temp_index = index\n",
    "    expected_return = 0\n",
    "    times_rolled = 0\n",
    "    \n",
    "    for x in range(100):\n",
    "        \n",
    "        times_rolled += 1\n",
    "        \n",
    "        values_arr.remove(index)\n",
    "        index = random.choice(values_arr)\n",
    "        values_arr.append(temp_index)\n",
    "        expected_return = index - ((cost_per_roll * times_rolled) + inicial_cost)\n",
    "        if (index in high):\n",
    "            return expected_return\n",
    "        else:\n",
    "            temp_index = index\n",
    "            \n",
    "    return expected_return"
   ]
  },
  {
   "cell_type": "code",
   "execution_count": null,
   "id": "44c981d9-7b36-49fa-80de-aa4c8c3e2c40",
   "metadata": {},
   "outputs": [],
   "source": []
  },
  {
   "cell_type": "markdown",
   "id": "6538ba7d-b939-4207-ba64-ed0fdbac4ce6",
   "metadata": {},
   "source": [
    "## Commom"
   ]
  },
  {
   "cell_type": "code",
   "execution_count": 154,
   "id": "7099bf21-4778-4f29-aade-0e24747d27b3",
   "metadata": {},
   "outputs": [],
   "source": [
    "juice_table = dict([(\"yellow\", 26), (\"red\", 40), (\"blue\", 40)])"
   ]
  },
  {
   "cell_type": "code",
   "execution_count": 155,
   "id": "df3ed052-bb1c-498e-b934-26ce6c016c62",
   "metadata": {},
   "outputs": [],
   "source": [
    "juice_cost = 1"
   ]
  },
  {
   "cell_type": "markdown",
   "id": "d7ada40a-7b01-4d69-b1d0-365bfa3a2a50",
   "metadata": {
    "jp-MarkdownHeadingCollapsed": true,
    "tags": []
   },
   "source": [
    "## Essence"
   ]
  },
  {
   "cell_type": "markdown",
   "id": "026c886d-19ee-494e-8087-21925e26a480",
   "metadata": {
    "tags": []
   },
   "source": [
    "### Essence Cost"
   ]
  },
  {
   "cell_type": "code",
   "execution_count": 123,
   "id": "d822d580-d83e-4525-b1de-ef009354f8d5",
   "metadata": {},
   "outputs": [],
   "source": [
    "tier8 = [7, 8, 9, 11]\n",
    "high_tier8 = [11]\n",
    "index_tier8 = 7"
   ]
  },
  {
   "cell_type": "code",
   "execution_count": 146,
   "id": "bb3a7190-70f9-4ab0-9825-a68752b5f8df",
   "metadata": {},
   "outputs": [],
   "source": [
    "tier7 = [9, 7, 5, 4, 4, 3, 3, 3, 3, 3, 3, 2, 2, 2, 2, 2, 2, 1, 1, 1]\n",
    "high_tier7 = [9, 7, 5, 4, 4, 3, 3, 3, 3, 3, 3]\n",
    "index_tier7 = 2"
   ]
  },
  {
   "cell_type": "code",
   "execution_count": 156,
   "id": "e70ba6c5-96a6-4371-8524-1ccaaed1bb5f",
   "metadata": {},
   "outputs": [],
   "source": [
    "juice = juice_table[\"blue\"]"
   ]
  },
  {
   "cell_type": "code",
   "execution_count": 153,
   "id": "b7d26e15-e135-4ebc-b9dc-4f11688f14c3",
   "metadata": {},
   "outputs": [],
   "source": [
    "roll_cost = 30"
   ]
  },
  {
   "cell_type": "code",
   "execution_count": 128,
   "id": "b9d9282c-73b2-4ad8-bb6f-537f54380536",
   "metadata": {},
   "outputs": [
    {
     "data": {
      "text/plain": [
       "0.75"
      ]
     },
     "execution_count": 128,
     "metadata": {},
     "output_type": "execute_result"
    }
   ],
   "source": [
    "cost_per_roll = (roll_cost * juice_cost) / juice\n",
    "cost_per_roll"
   ]
  },
  {
   "cell_type": "markdown",
   "id": "e323639c-700a-46b2-b5d0-d4dbc9e8c74a",
   "metadata": {
    "tags": []
   },
   "source": [
    "### Essence Return 1 roll"
   ]
  },
  {
   "cell_type": "code",
   "execution_count": 129,
   "id": "ca371dee-3315-43fb-a680-ec798182c2f9",
   "metadata": {},
   "outputs": [],
   "source": [
    "test_size = 100000"
   ]
  },
  {
   "cell_type": "code",
   "execution_count": 130,
   "id": "a54f8e9b-8409-40b0-a87a-ed176c139301",
   "metadata": {},
   "outputs": [
    {
     "name": "stdout",
     "output_type": "stream",
     "text": [
      "1.57577\n",
      "1.98746\n"
     ]
    }
   ],
   "source": [
    "number_of_rolls = 1\n",
    "average = 0\n",
    "\n",
    "for n in range(test_size):\n",
    "    average += expected_return(tier8, cost_per_roll, index_tier8, number_of_rolls)\n",
    "print(average / test_size)\n",
    "\n",
    "for n in range(test_size):\n",
    "    average += expected_return(tier7, cost_per_roll, index_tier7, number_of_rolls)\n",
    "print(average / test_size)"
   ]
  },
  {
   "cell_type": "markdown",
   "id": "39b1ff5e-866e-4ba4-a8a1-ec51d2589aa6",
   "metadata": {},
   "source": [
    "### Essence Return 2 roll"
   ]
  },
  {
   "cell_type": "code",
   "execution_count": 131,
   "id": "fc1a2a14-7628-4409-8e78-ea229934dfb1",
   "metadata": {},
   "outputs": [
    {
     "name": "stdout",
     "output_type": "stream",
     "text": [
      "1.58805\n",
      "2.3353025\n"
     ]
    }
   ],
   "source": [
    "number_of_rolls = 2\n",
    "average = 0\n",
    "\n",
    "for n in range(test_size):\n",
    "    average += expected_return(tier8, cost_per_roll, index_tier8, number_of_rolls)\n",
    "print(average / test_size)\n",
    "\n",
    "for n in range(test_size):\n",
    "    average += expected_return(tier7, cost_per_roll, index_tier7, number_of_rolls)\n",
    "print(average / test_size)"
   ]
  },
  {
   "cell_type": "markdown",
   "id": "baddfd09-b8de-4842-a2ef-c39e2b3e9048",
   "metadata": {},
   "source": [
    "### Essence Return 3 roll"
   ]
  },
  {
   "cell_type": "code",
   "execution_count": 132,
   "id": "74151a4b-a986-47b1-81c9-7121530281a8",
   "metadata": {},
   "outputs": [
    {
     "name": "stdout",
     "output_type": "stream",
     "text": [
      "1.58811\n",
      "2.381965\n"
     ]
    }
   ],
   "source": [
    "number_of_rolls = 3\n",
    "average = 0\n",
    "\n",
    "for n in range(test_size):\n",
    "    average += expected_return(tier8, cost_per_roll, index_tier8, number_of_rolls)\n",
    "print(average / test_size)\n",
    "\n",
    "for n in range(test_size):\n",
    "    average += expected_return(tier7, cost_per_roll, index_tier7, number_of_rolls)\n",
    "print(average / test_size)"
   ]
  },
  {
   "cell_type": "markdown",
   "id": "3f867339-42d5-4b6d-a652-8888a76aefe3",
   "metadata": {},
   "source": [
    "### Essence Return roll for high"
   ]
  },
  {
   "cell_type": "code",
   "execution_count": 147,
   "id": "5bc02b36-6bf8-4904-a480-610545045e64",
   "metadata": {},
   "outputs": [
    {
     "name": "stdout",
     "output_type": "stream",
     "text": [
      "1.7555425\n",
      "2.734055\n"
     ]
    }
   ],
   "source": [
    "average = 0\n",
    "\n",
    "for n in range(test_size):\n",
    "    average += expected_return_high_roll(tier8, cost_per_roll, index_tier8, high_tier8)\n",
    "print(average / test_size)\n",
    "\n",
    "for n in range(test_size):\n",
    "    average += expected_return_high_roll(tier7, cost_per_roll, index_tier7, high_tier7)\n",
    "print(average / test_size)"
   ]
  },
  {
   "cell_type": "markdown",
   "id": "463662da-3851-4bea-90a6-ddfb7edff80b",
   "metadata": {
    "tags": []
   },
   "source": [
    "## Delirium"
   ]
  },
  {
   "cell_type": "code",
   "execution_count": null,
   "id": "2dfb4db8-d5b6-4422-a63e-02d37ea8f90b",
   "metadata": {},
   "outputs": [],
   "source": [
    "orbs = [19, 19, 10, 7, 6, 6, 6, 6, 6, 6, 6, 6, 5, 5, 5, 5, 5, 5, 5]"
   ]
  },
  {
   "cell_type": "code",
   "execution_count": null,
   "id": "bc068c4e-157e-4dea-b422-15ba6c5918a4",
   "metadata": {},
   "outputs": [],
   "source": [
    "juice = juice_table[\"blue\"]"
   ]
  },
  {
   "cell_type": "code",
   "execution_count": null,
   "id": "10ac5511-65f5-45ef-8cb7-12a05ef1a7ea",
   "metadata": {},
   "outputs": [],
   "source": [
    "roll_cost = 30"
   ]
  },
  {
   "cell_type": "code",
   "execution_count": null,
   "id": "b334fee1-ee3e-4f37-9065-f3acc034ebce",
   "metadata": {},
   "outputs": [],
   "source": [
    "cost_per_roll = (roll_cost * juice_cost) / juice\n",
    "cost_per_roll"
   ]
  },
  {
   "cell_type": "markdown",
   "id": "9c8b301f-f691-4674-8fd1-7d2cd618ca0a",
   "metadata": {},
   "source": [
    "## Oil"
   ]
  },
  {
   "cell_type": "code",
   "execution_count": null,
   "id": "e0d38bda-0b8c-4547-83d5-9cdae363b51e",
   "metadata": {},
   "outputs": [],
   "source": [
    "oils = [63, 30, 25, 9, 3, 1, 1, 1, 1, 1, 1, 1, 1, 1, 1]"
   ]
  },
  {
   "cell_type": "code",
   "execution_count": null,
   "id": "ed2fc176-a217-4b0d-b6eb-b2fc6adb4e41",
   "metadata": {},
   "outputs": [],
   "source": [
    "juice = juice_table[\"yellow\"]"
   ]
  },
  {
   "cell_type": "code",
   "execution_count": null,
   "id": "2e5989d0-6fc8-42af-afa2-19258a65132b",
   "metadata": {},
   "outputs": [],
   "source": [
    "roll_cost = 30"
   ]
  },
  {
   "cell_type": "code",
   "execution_count": null,
   "id": "bd161a7a-79c6-4f82-8a63-6031c4ca9c2b",
   "metadata": {},
   "outputs": [],
   "source": [
    "cost_per_roll = (roll_cost * juice_cost) / juice\n",
    "cost_per_roll"
   ]
  },
  {
   "cell_type": "markdown",
   "id": "d1db0840-c521-41d8-ab3e-da9864a38bbd",
   "metadata": {},
   "source": [
    "## Fossil"
   ]
  },
  {
   "cell_type": "code",
   "execution_count": null,
   "id": "fcfc6b2a-746a-4cf6-85f2-9deb7a336333",
   "metadata": {},
   "outputs": [],
   "source": [
    "fossils = [95, 66, 30, 10, 8, 5, 3, 3, 3, 3, 2, 2, 1, 1, 1, 1, 1, 1, 1, 1, 1, 1, 1, 1]"
   ]
  },
  {
   "cell_type": "code",
   "execution_count": null,
   "id": "f18d6954-f874-49cb-8c8a-2e927baeb438",
   "metadata": {},
   "outputs": [],
   "source": [
    "juice = juice_table[\"red\"]"
   ]
  },
  {
   "cell_type": "code",
   "execution_count": null,
   "id": "076a2169-26f2-405d-82ab-452dcbd47ce5",
   "metadata": {},
   "outputs": [],
   "source": [
    "roll_cost = 30"
   ]
  },
  {
   "cell_type": "code",
   "execution_count": null,
   "id": "d0bdf2ef-a01f-4bfa-8ac4-fc8489919ed1",
   "metadata": {},
   "outputs": [],
   "source": [
    "cost_per_roll = (roll_cost * juice_cost) / juice\n",
    "cost_per_roll"
   ]
  },
  {
   "cell_type": "markdown",
   "id": "e3cd38a2-0cce-4a29-ade4-ed6274ddb050",
   "metadata": {},
   "source": [
    "## Catalyst"
   ]
  },
  {
   "cell_type": "code",
   "execution_count": null,
   "id": "9ed543a7-c027-4622-9b14-11a886013d2b",
   "metadata": {},
   "outputs": [],
   "source": [
    "juice = juice_table[\"yellow\"]"
   ]
  },
  {
   "cell_type": "code",
   "execution_count": null,
   "id": "1ec1cd8e-afd9-45f1-987f-1efa0040a54d",
   "metadata": {},
   "outputs": [],
   "source": [
    "roll_cost = 30"
   ]
  },
  {
   "cell_type": "code",
   "execution_count": null,
   "id": "48f713ca-6e33-4c4d-a3c4-fbe7c8e30b55",
   "metadata": {},
   "outputs": [],
   "source": [
    "cost_per_roll = (roll_cost * juice_cost) / juice\n",
    "cost_per_roll"
   ]
  },
  {
   "cell_type": "markdown",
   "id": "a13c61ab-bf8a-46e1-a582-f329e8d11b4e",
   "metadata": {},
   "source": [
    "## Scarabs"
   ]
  },
  {
   "cell_type": "code",
   "execution_count": null,
   "id": "94ca2a87-d998-4d3e-a1d5-51fca008fdaa",
   "metadata": {},
   "outputs": [],
   "source": [
    "juice = juice_table[\"red\"]"
   ]
  },
  {
   "cell_type": "code",
   "execution_count": null,
   "id": "316f833e-2d40-4e22-99e8-e86a20021d9d",
   "metadata": {},
   "outputs": [],
   "source": [
    "roll_cost = 30"
   ]
  },
  {
   "cell_type": "code",
   "execution_count": null,
   "id": "a08b7197-d6a9-4847-9cc4-57dc4c4a5272",
   "metadata": {},
   "outputs": [],
   "source": [
    "cost_per_roll = (roll_cost * juice_cost) / juice\n",
    "cost_per_roll"
   ]
  },
  {
   "cell_type": "markdown",
   "id": "e796baa9-d24d-4d97-8f79-19bbc2fdf750",
   "metadata": {},
   "source": [
    "## Mortal Fragments"
   ]
  },
  {
   "cell_type": "code",
   "execution_count": null,
   "id": "15845dbb-dce1-4844-aa85-79d8ffeaa646",
   "metadata": {},
   "outputs": [],
   "source": [
    "juice = juice_table[\"blue\"]"
   ]
  },
  {
   "cell_type": "code",
   "execution_count": null,
   "id": "c77dad53-e778-458a-b249-5d702e57e2f1",
   "metadata": {},
   "outputs": [],
   "source": [
    "roll_cost = 500"
   ]
  },
  {
   "cell_type": "code",
   "execution_count": null,
   "id": "6a2e20a7-c769-4ba7-afca-d9522825e5ba",
   "metadata": {},
   "outputs": [],
   "source": [
    "cost_per_roll = (roll_cost * juice_cost) / juice\n",
    "cost_per_roll"
   ]
  },
  {
   "cell_type": "markdown",
   "id": "c064830b-6cbb-445a-986a-c4d61b0290c8",
   "metadata": {},
   "source": [
    "## Conqueror Fragments"
   ]
  },
  {
   "cell_type": "code",
   "execution_count": null,
   "id": "cfa346fb-10b1-491a-865d-bb56802c1cbd",
   "metadata": {},
   "outputs": [],
   "source": [
    "juice = juice_table[\"yellow\"]"
   ]
  },
  {
   "cell_type": "code",
   "execution_count": null,
   "id": "fc98c1cc-fa51-4aa9-b2ac-e93a35f2c235",
   "metadata": {},
   "outputs": [],
   "source": [
    "roll_cost = 500"
   ]
  },
  {
   "cell_type": "code",
   "execution_count": null,
   "id": "ecbb7d5c-e041-4812-adb4-d8d63576369f",
   "metadata": {},
   "outputs": [],
   "source": [
    "cost_per_roll = (roll_cost * juice_cost) / juice\n",
    "cost_per_roll"
   ]
  },
  {
   "cell_type": "markdown",
   "id": "ea99feeb-05c6-44da-8e9f-aedf203f0467",
   "metadata": {},
   "source": [
    "## Elder Fragments"
   ]
  },
  {
   "cell_type": "code",
   "execution_count": null,
   "id": "e40e2d84-af8c-4e02-894c-3d2135d27384",
   "metadata": {},
   "outputs": [],
   "source": [
    "juice = juice_table[\"blue\"]"
   ]
  },
  {
   "cell_type": "code",
   "execution_count": null,
   "id": "99c37a9a-117b-433f-afd5-cd3988a3fee7",
   "metadata": {},
   "outputs": [],
   "source": [
    "roll_cost = 500"
   ]
  },
  {
   "cell_type": "code",
   "execution_count": null,
   "id": "7b0f90b6-d1fa-4c74-bb17-9a5b922f843a",
   "metadata": {},
   "outputs": [],
   "source": [
    "cost_per_roll = (roll_cost * juice_cost) / juice\n",
    "cost_per_roll"
   ]
  },
  {
   "cell_type": "markdown",
   "id": "520d1f54-e113-4541-8a92-67154b41d6b9",
   "metadata": {},
   "source": [
    "## Shaper Fragments"
   ]
  },
  {
   "cell_type": "code",
   "execution_count": null,
   "id": "fde7145a-c85b-4fde-9c85-94b13fae36f1",
   "metadata": {},
   "outputs": [],
   "source": [
    "juice = juice_table[\"red\"]"
   ]
  },
  {
   "cell_type": "code",
   "execution_count": null,
   "id": "558e1fa7-445c-4980-b2f8-e610cd470e74",
   "metadata": {},
   "outputs": [],
   "source": [
    "roll_cost = 500"
   ]
  },
  {
   "cell_type": "code",
   "execution_count": null,
   "id": "d27dee4c-fbda-4892-a508-20d06f2f7a11",
   "metadata": {},
   "outputs": [],
   "source": [
    "cost_per_roll = (roll_cost * juice_cost) / juice\n",
    "cost_per_roll"
   ]
  },
  {
   "cell_type": "markdown",
   "id": "efc54df1-dd04-41e2-a828-bba8462f1178",
   "metadata": {},
   "source": [
    "## Facetor's Lens"
   ]
  },
  {
   "cell_type": "code",
   "execution_count": null,
   "id": "bf99d835-708b-479e-9ac7-a406865a18b7",
   "metadata": {},
   "outputs": [],
   "source": [
    "# sacrifice corrupt gem to gain 50% of gem experience in facetor"
   ]
  },
  {
   "cell_type": "code",
   "execution_count": null,
   "id": "c375e636-d790-4914-bf17-85964ab99554",
   "metadata": {},
   "outputs": [],
   "source": [
    "juice = yellow"
   ]
  },
  {
   "cell_type": "code",
   "execution_count": null,
   "id": "07e246df-c4fc-46cb-b911-03e4b2156a37",
   "metadata": {},
   "outputs": [],
   "source": [
    "roll_cost = 4000"
   ]
  },
  {
   "cell_type": "code",
   "execution_count": null,
   "id": "8da2a14e-10c2-4566-baee-1c48b2b9ded7",
   "metadata": {},
   "outputs": [],
   "source": [
    "cost_per_roll = (roll_cost * juice_cost) / juice\n",
    "cost_per_roll"
   ]
  }
 ],
 "metadata": {
  "kernelspec": {
   "display_name": "Python 3",
   "language": "python",
   "name": "python3"
  },
  "language_info": {
   "codemirror_mode": {
    "name": "ipython",
    "version": 3
   },
   "file_extension": ".py",
   "mimetype": "text/x-python",
   "name": "python",
   "nbconvert_exporter": "python",
   "pygments_lexer": "ipython3",
   "version": "3.6.8"
  }
 },
 "nbformat": 4,
 "nbformat_minor": 5
}
